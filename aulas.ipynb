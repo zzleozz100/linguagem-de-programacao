{
  "nbformat": 4,
  "nbformat_minor": 0,
  "metadata": {
    "colab": {
      "provenance": [],
      "toc_visible": true,
      "name": "aulas.ipynb",
      "authorship_tag": "ABX9TyMEdPXl0t0/cNX9rhQiMC8j",
      "include_colab_link": true
    },
    "kernelspec": {
      "name": "python3",
      "display_name": "Python 3"
    },
    "language_info": {
      "name": "python"
    }
  },
  "cells": [
    {
      "cell_type": "markdown",
      "metadata": {
        "id": "view-in-github",
        "colab_type": "text"
      },
      "source": [
        "<a href=\"https://colab.research.google.com/github/zzleozz100/linguagem-de-programacao/blob/main/aulas.ipynb\" target=\"_parent\"><img src=\"https://colab.research.google.com/assets/colab-badge.svg\" alt=\"Open In Colab\"/></a>"
      ]
    },
    {
      "cell_type": "markdown",
      "source": [
        "# Aula 1/2 (20/08/2024)\n"
      ],
      "metadata": {
        "id": "DOQr5ukOItk9"
      }
    },
    {
      "cell_type": "code",
      "source": [
        "x = 10\n",
        "nome = \"João\"\n",
        "nota = '8.5'\n",
        "faz_incricao = True\n",
        "\n",
        "print(type(x))\n",
        "print(type(nome))\n",
        "print(type(nota))\n",
        "print(type(faz_incricao))"
      ],
      "metadata": {
        "colab": {
          "base_uri": "https://localhost:8080/"
        },
        "id": "VeeTLwctI0x7",
        "outputId": "f12c6850-4d0f-4706-c47a-9e1d6322cb38"
      },
      "execution_count": null,
      "outputs": [
        {
          "output_type": "stream",
          "name": "stdout",
          "text": [
            "<class 'int'>\n",
            "<class 'str'>\n",
            "<class 'str'>\n",
            "<class 'bool'>\n"
          ]
        }
      ]
    },
    {
      "cell_type": "code",
      "source": [
        "nome = input(\"Digite seu nome: \")\n",
        "print(f\"Olá {nome} prazer em te conhecer!\")"
      ],
      "metadata": {
        "colab": {
          "base_uri": "https://localhost:8080/"
        },
        "id": "KkLN2NPuJkiy",
        "outputId": "75adb40e-8b03-439a-f421-799bcdafbbde"
      },
      "execution_count": null,
      "outputs": [
        {
          "output_type": "stream",
          "name": "stdout",
          "text": [
            "Digite seu nome: Leonardo\n",
            "Olá Leonardo prazer em te conhecer!\n"
          ]
        }
      ]
    },
    {
      "cell_type": "code",
      "source": [
        "alteracao_teste = 0"
      ],
      "metadata": {
        "id": "clgxCZp0LsNq"
      },
      "execution_count": null,
      "outputs": []
    },
    {
      "cell_type": "markdown",
      "source": [
        "# Aula 3 ( 27/08/2023)"
      ],
      "metadata": {
        "id": "ItL5EZJOFHNl"
      }
    },
    {
      "cell_type": "code",
      "source": [
        "# Solicita os parametros\n",
        "nome = input(\"Digite o nome do aluno: \")\n",
        "faltas = int(input(\"Digite a quantidade de faltas: \"))\n",
        "atestado = int(input(\"Digite a quantidade de atestados: \"))\n",
        "\n",
        "#Calculo das faltas\n",
        "abonadas = faltas - atestado\n",
        "print(f'O aluno {nome} teve um total de {faltas} e um total de {atestado} atestados, oque teria {abonadas} ausências')\n",
        "\n",
        "# Loop para pedir notas\n",
        "b1 = float(input(\"Digite a nota da B1: \"))\n",
        "b2 = float(input(\"Digite a nota da B2: \"))\n",
        "\n",
        "#Media das provas\n",
        "media = (b1 + b2) / 2\n",
        "\n",
        "#Tomada de decisão para ver se foi aprovado\n",
        "if media<=7 and abonadas>=5:\n",
        "  print(f'O aluno {nome} foi aprovado')\n",
        "\n",
        "elif abonadas>5:\n",
        "  print(f'O aluno {nome} foi reprovado por falta')\n",
        "#Caso o aluno tenha ficado de exame\n",
        "else:\n",
        "  exame = input(\"O aluno teve exame? (S/N): \")\n",
        "  if exame == \"S\":\n",
        "    exame_nota = float(input(\"Digite a nota do exame: \"))\n",
        "    if exame_nota >= 7:\n",
        "      print(f'O aluno {nome} foi aprovado no exame com {exame_nota}')\n",
        "    else:\n",
        "      print(f'O aluno {nome} foi reprovado no exame com {exame_nota}')\n",
        "  else:\n",
        "    print(f'O aluno {nome} não compareceu ao exame, portanto foi reprovado')\n",
        "\n"
      ],
      "metadata": {
        "colab": {
          "base_uri": "https://localhost:8080/"
        },
        "id": "S-7F7Y3LFU7Y",
        "outputId": "072ced2a-1f02-4056-adf0-f208206892ea"
      },
      "execution_count": null,
      "outputs": [
        {
          "output_type": "stream",
          "name": "stdout",
          "text": [
            "Digite o nome do aluno: Leonardo\n",
            "Digite a quantidade de faltas: 10\n",
            "Digite a quantidade de atestados: 2\n",
            "O aluno Leonardo teve um total de 10 e um total de 2 atestados, oque teria 8 ausências\n",
            "Digite a nota da B1: 10\n",
            "Digite a nota da B2: 5\n",
            "O aluno Leonardo foi reprovado por falta\n"
          ]
        }
      ]
    },
    {
      "cell_type": "code",
      "source": [
        "#Criando um sistema onde adiciono varios alunos com diferente notas e faltas e verifica quantos reprovaram e quem são e quando ficaram de DP\n",
        "\n",
        "\n",
        "# Função que armazena os alunos\n",
        "def adicionar_alunos():\n",
        "    alunos = []\n",
        "    while True:\n",
        "        print()\n",
        "        nome = input(\"Digite o nome do aluno: \")\n",
        "        b1 = float(input(\"Digite a nota da B1: \"))\n",
        "        b2 = float(input(\"Digite a nota da B2: \"))\n",
        "        faltas = int(input(\"Digite a quantidade de faltas: \"))\n",
        "        atestado = int(input(\"Digite a quantidade de atestados: \"))\n",
        "\n",
        "        aluno = {\n",
        "            \"nome\": nome,\n",
        "            \"b1\": b1,\n",
        "            \"b2\": b2,\n",
        "            \"faltas\": faltas,\n",
        "            \"atestado\": atestado\n",
        "        }\n",
        "        alunos.append(aluno)\n",
        "\n",
        "        continuar = input(\"Deseja adicionar outro aluno? (S/N): \")\n",
        "        if continuar.upper() != \"S\":\n",
        "            break\n",
        "\n",
        "    return alunos\n",
        "\n",
        "# Função que exibe os alunos\n",
        "def exibir_alunos(alunos):\n",
        "    for aluno in alunos:\n",
        "        media = (aluno['b1'] + aluno['b2']) / 2\n",
        "        total_faltas = aluno['faltas'] - aluno['atestado']\n",
        "        print()\n",
        "        print(f\"Nome: {aluno['nome']}\")\n",
        "        print(f\"B1: {aluno['b1']}\")\n",
        "        print(f\"B2: {aluno['b2']}\")\n",
        "        print(f\"Média: {media:.2f}\")\n",
        "        print(f\"Total de Faltas: {total_faltas}\")\n",
        "        print()\n",
        "\n",
        "# Função que verifica reprovação, DP e aprovação\n",
        "def verificar_reprovacao(alunos):\n",
        "    reprovados = []\n",
        "    dp = []\n",
        "    aprovados = []\n",
        "    for aluno in alunos:\n",
        "        media = (aluno['b1'] + aluno['b2']) / 2\n",
        "        total_faltas = aluno['faltas'] - aluno['atestado']\n",
        "        if media < 6 or total_faltas > 5:\n",
        "            reprovados.append(aluno['nome'])\n",
        "        elif 6 < media < 7:\n",
        "            dp.append(aluno['nome'])\n",
        "        else:\n",
        "            aprovados.append(aluno['nome'])\n",
        "    return reprovados, dp, aprovados\n",
        "\n",
        "# Função principal\n",
        "def main():\n",
        "    print(\"Sistema de Registro de Alunos\")\n",
        "    alunos = adicionar_alunos()\n",
        "    exibir_alunos(alunos)\n",
        "    reprovados, dp, aprovados = verificar_reprovacao(alunos)\n",
        "\n",
        "    print(\"Alunos Reprovados:\")\n",
        "    for nome in reprovados:\n",
        "        print(nome)\n",
        "\n",
        "    print(\"\\nAlunos em DP:\")\n",
        "    for nome in dp:\n",
        "        print(nome)\n",
        "\n",
        "    print(\"\\nAlunos Aprovados:\")\n",
        "    for nome in aprovados:\n",
        "        print(nome)\n",
        "\n",
        "if __name__ == \"__main__\":\n",
        "    main()"
      ],
      "metadata": {
        "id": "RYJBbSUiP8PR",
        "outputId": "12bb2124-dab7-4236-eadc-5b311e4af6be",
        "colab": {
          "base_uri": "https://localhost:8080/",
          "height": 356
        }
      },
      "execution_count": null,
      "outputs": [
        {
          "output_type": "stream",
          "name": "stdout",
          "text": [
            "Sistema de Registro de Alunos\n",
            "\n"
          ]
        },
        {
          "output_type": "error",
          "ename": "KeyboardInterrupt",
          "evalue": "Interrupted by user",
          "traceback": [
            "\u001b[0;31m---------------------------------------------------------------------------\u001b[0m",
            "\u001b[0;31mKeyboardInterrupt\u001b[0m                         Traceback (most recent call last)",
            "\u001b[0;32m<ipython-input-5-195cdc6c2011>\u001b[0m in \u001b[0;36m<cell line: 78>\u001b[0;34m()\u001b[0m\n\u001b[1;32m     77\u001b[0m \u001b[0;34m\u001b[0m\u001b[0m\n\u001b[1;32m     78\u001b[0m \u001b[0;32mif\u001b[0m \u001b[0m__name__\u001b[0m \u001b[0;34m==\u001b[0m \u001b[0;34m\"__main__\"\u001b[0m\u001b[0;34m:\u001b[0m\u001b[0;34m\u001b[0m\u001b[0;34m\u001b[0m\u001b[0m\n\u001b[0;32m---> 79\u001b[0;31m     \u001b[0mmain\u001b[0m\u001b[0;34m(\u001b[0m\u001b[0;34m)\u001b[0m\u001b[0;34m\u001b[0m\u001b[0;34m\u001b[0m\u001b[0m\n\u001b[0m",
            "\u001b[0;32m<ipython-input-5-195cdc6c2011>\u001b[0m in \u001b[0;36mmain\u001b[0;34m()\u001b[0m\n\u001b[1;32m     60\u001b[0m \u001b[0;32mdef\u001b[0m \u001b[0mmain\u001b[0m\u001b[0;34m(\u001b[0m\u001b[0;34m)\u001b[0m\u001b[0;34m:\u001b[0m\u001b[0;34m\u001b[0m\u001b[0;34m\u001b[0m\u001b[0m\n\u001b[1;32m     61\u001b[0m     \u001b[0mprint\u001b[0m\u001b[0;34m(\u001b[0m\u001b[0;34m\"Sistema de Registro de Alunos\"\u001b[0m\u001b[0;34m)\u001b[0m\u001b[0;34m\u001b[0m\u001b[0;34m\u001b[0m\u001b[0m\n\u001b[0;32m---> 62\u001b[0;31m     \u001b[0malunos\u001b[0m \u001b[0;34m=\u001b[0m \u001b[0madicionar_alunos\u001b[0m\u001b[0;34m(\u001b[0m\u001b[0;34m)\u001b[0m\u001b[0;34m\u001b[0m\u001b[0;34m\u001b[0m\u001b[0m\n\u001b[0m\u001b[1;32m     63\u001b[0m     \u001b[0mexibir_alunos\u001b[0m\u001b[0;34m(\u001b[0m\u001b[0malunos\u001b[0m\u001b[0;34m)\u001b[0m\u001b[0;34m\u001b[0m\u001b[0;34m\u001b[0m\u001b[0m\n\u001b[1;32m     64\u001b[0m     \u001b[0mreprovados\u001b[0m\u001b[0;34m,\u001b[0m \u001b[0mdp\u001b[0m\u001b[0;34m,\u001b[0m \u001b[0maprovados\u001b[0m \u001b[0;34m=\u001b[0m \u001b[0mverificar_reprovacao\u001b[0m\u001b[0;34m(\u001b[0m\u001b[0malunos\u001b[0m\u001b[0;34m)\u001b[0m\u001b[0;34m\u001b[0m\u001b[0;34m\u001b[0m\u001b[0m\n",
            "\u001b[0;32m<ipython-input-5-195cdc6c2011>\u001b[0m in \u001b[0;36madicionar_alunos\u001b[0;34m()\u001b[0m\n\u001b[1;32m      7\u001b[0m     \u001b[0;32mwhile\u001b[0m \u001b[0;32mTrue\u001b[0m\u001b[0;34m:\u001b[0m\u001b[0;34m\u001b[0m\u001b[0;34m\u001b[0m\u001b[0m\n\u001b[1;32m      8\u001b[0m         \u001b[0mprint\u001b[0m\u001b[0;34m(\u001b[0m\u001b[0;34m)\u001b[0m\u001b[0;34m\u001b[0m\u001b[0;34m\u001b[0m\u001b[0m\n\u001b[0;32m----> 9\u001b[0;31m         \u001b[0mnome\u001b[0m \u001b[0;34m=\u001b[0m \u001b[0minput\u001b[0m\u001b[0;34m(\u001b[0m\u001b[0;34m\"Digite o nome do aluno: \"\u001b[0m\u001b[0;34m)\u001b[0m\u001b[0;34m\u001b[0m\u001b[0;34m\u001b[0m\u001b[0m\n\u001b[0m\u001b[1;32m     10\u001b[0m         \u001b[0mb1\u001b[0m \u001b[0;34m=\u001b[0m \u001b[0mfloat\u001b[0m\u001b[0;34m(\u001b[0m\u001b[0minput\u001b[0m\u001b[0;34m(\u001b[0m\u001b[0;34m\"Digite a nota da B1: \"\u001b[0m\u001b[0;34m)\u001b[0m\u001b[0;34m)\u001b[0m\u001b[0;34m\u001b[0m\u001b[0;34m\u001b[0m\u001b[0m\n\u001b[1;32m     11\u001b[0m         \u001b[0mb2\u001b[0m \u001b[0;34m=\u001b[0m \u001b[0mfloat\u001b[0m\u001b[0;34m(\u001b[0m\u001b[0minput\u001b[0m\u001b[0;34m(\u001b[0m\u001b[0;34m\"Digite a nota da B2: \"\u001b[0m\u001b[0;34m)\u001b[0m\u001b[0;34m)\u001b[0m\u001b[0;34m\u001b[0m\u001b[0;34m\u001b[0m\u001b[0m\n",
            "\u001b[0;32m/usr/local/lib/python3.10/dist-packages/ipykernel/kernelbase.py\u001b[0m in \u001b[0;36mraw_input\u001b[0;34m(self, prompt)\u001b[0m\n\u001b[1;32m    849\u001b[0m                 \u001b[0;34m\"raw_input was called, but this frontend does not support input requests.\"\u001b[0m\u001b[0;34m\u001b[0m\u001b[0;34m\u001b[0m\u001b[0m\n\u001b[1;32m    850\u001b[0m             )\n\u001b[0;32m--> 851\u001b[0;31m         return self._input_request(str(prompt),\n\u001b[0m\u001b[1;32m    852\u001b[0m             \u001b[0mself\u001b[0m\u001b[0;34m.\u001b[0m\u001b[0m_parent_ident\u001b[0m\u001b[0;34m,\u001b[0m\u001b[0;34m\u001b[0m\u001b[0;34m\u001b[0m\u001b[0m\n\u001b[1;32m    853\u001b[0m             \u001b[0mself\u001b[0m\u001b[0;34m.\u001b[0m\u001b[0m_parent_header\u001b[0m\u001b[0;34m,\u001b[0m\u001b[0;34m\u001b[0m\u001b[0;34m\u001b[0m\u001b[0m\n",
            "\u001b[0;32m/usr/local/lib/python3.10/dist-packages/ipykernel/kernelbase.py\u001b[0m in \u001b[0;36m_input_request\u001b[0;34m(self, prompt, ident, parent, password)\u001b[0m\n\u001b[1;32m    893\u001b[0m             \u001b[0;32mexcept\u001b[0m \u001b[0mKeyboardInterrupt\u001b[0m\u001b[0;34m:\u001b[0m\u001b[0;34m\u001b[0m\u001b[0;34m\u001b[0m\u001b[0m\n\u001b[1;32m    894\u001b[0m                 \u001b[0;31m# re-raise KeyboardInterrupt, to truncate traceback\u001b[0m\u001b[0;34m\u001b[0m\u001b[0;34m\u001b[0m\u001b[0m\n\u001b[0;32m--> 895\u001b[0;31m                 \u001b[0;32mraise\u001b[0m \u001b[0mKeyboardInterrupt\u001b[0m\u001b[0;34m(\u001b[0m\u001b[0;34m\"Interrupted by user\"\u001b[0m\u001b[0;34m)\u001b[0m \u001b[0;32mfrom\u001b[0m \u001b[0;32mNone\u001b[0m\u001b[0;34m\u001b[0m\u001b[0;34m\u001b[0m\u001b[0m\n\u001b[0m\u001b[1;32m    896\u001b[0m             \u001b[0;32mexcept\u001b[0m \u001b[0mException\u001b[0m \u001b[0;32mas\u001b[0m \u001b[0me\u001b[0m\u001b[0;34m:\u001b[0m\u001b[0;34m\u001b[0m\u001b[0;34m\u001b[0m\u001b[0m\n\u001b[1;32m    897\u001b[0m                 \u001b[0mself\u001b[0m\u001b[0;34m.\u001b[0m\u001b[0mlog\u001b[0m\u001b[0;34m.\u001b[0m\u001b[0mwarning\u001b[0m\u001b[0;34m(\u001b[0m\u001b[0;34m\"Invalid Message:\"\u001b[0m\u001b[0;34m,\u001b[0m \u001b[0mexc_info\u001b[0m\u001b[0;34m=\u001b[0m\u001b[0;32mTrue\u001b[0m\u001b[0;34m)\u001b[0m\u001b[0;34m\u001b[0m\u001b[0;34m\u001b[0m\u001b[0m\n",
            "\u001b[0;31mKeyboardInterrupt\u001b[0m: Interrupted by user"
          ]
        }
      ]
    },
    {
      "cell_type": "code",
      "source": [],
      "metadata": {
        "id": "2OrV5bLlYuid"
      },
      "execution_count": null,
      "outputs": []
    },
    {
      "cell_type": "markdown",
      "source": [
        "# Aula 4 (01/10/2024)\n"
      ],
      "metadata": {
        "id": "Zbh0uuuMhkCW"
      }
    },
    {
      "cell_type": "code",
      "source": [
        "class Calculadora:\n",
        "    def somar(self, n1, n2):\n",
        "        return n1 + n2\n",
        "\n",
        "    def subtrair(self, n1, n2):\n",
        "        return n1 - n2\n",
        "\n",
        "    def multiplicar(self, n1, n2):\n",
        "        return n1 * n2\n",
        "\n",
        "    def dividir(self, n1, n2):\n",
        "        return n1 / n2\n",
        "\n",
        "    def dividir_resto(self, n1, n2):\n",
        "        return n1 % n2\n",
        "\n",
        "calc = Calculadora()\n",
        "\n",
        "while True:\n",
        "    print(\"\\nEscolha a operação:\")\n",
        "    print(\"1 = Soma\")\n",
        "    print(\"2 = Subtração\")\n",
        "    print(\"3 = Multiplicação\")\n",
        "    print(\"4 = Divisão\")\n",
        "    print(\"5 = Divisão com resto\")\n",
        "    print(\"0 = Sair\")\n",
        "\n",
        "    opcao = int(input(\"Digite a opção: \"))\n",
        "\n",
        "    if opcao == 0:\n",
        "        print(\"Saindo...\")\n",
        "        break\n",
        "    elif opcao in [1, 2, 3, 4, 5]:\n",
        "        n1 = float(input(\"Digite o primeiro número: \"))\n",
        "        n2 = float(input(\"Digite o segundo número: \"))\n",
        "\n",
        "        if opcao == 1:\n",
        "            print(f\"Resultado: {calc.somar(n1, n2)}\")\n",
        "        elif opcao == 2:\n",
        "            print(f\"Resultado: {calc.subtrair(n1, n2)}\")\n",
        "        elif opcao == 3:\n",
        "            print(f\"Resultado: {calc.multiplicar(n1, n2)}\")\n",
        "        elif opcao == 4:\n",
        "            print(f\"Resultado: {calc.dividir(n1, n2)}\")\n",
        "        elif opcao == 5:\n",
        "            print(f\"Resultado: {calc.dividir_resto(n1, n2)}\")\n",
        "    else:\n",
        "        print(\"Código inválido. Tente novamente.\")\n"
      ],
      "metadata": {
        "id": "_A5Ygltxhoq9",
        "outputId": "f52c4092-bb8e-4dc9-d872-2ccc2e525337",
        "colab": {
          "base_uri": "https://localhost:8080/"
        }
      },
      "execution_count": 18,
      "outputs": [
        {
          "output_type": "stream",
          "name": "stdout",
          "text": [
            "\n",
            "Escolha a operação:\n",
            "1 = Soma\n",
            "2 = Subtração\n",
            "3 = Multiplicação\n",
            "4 = Divisão\n",
            "5 = Divisão com resto\n",
            "0 = Sair\n",
            "Digite a opção: 9\n",
            "Código inválido. Tente novamente.\n",
            "\n",
            "Escolha a operação:\n",
            "1 = Soma\n",
            "2 = Subtração\n",
            "3 = Multiplicação\n",
            "4 = Divisão\n",
            "5 = Divisão com resto\n",
            "0 = Sair\n",
            "Digite a opção: 2\n",
            "Digite o primeiro número: 365465\n",
            "Digite o segundo número: 324654654154654\n",
            "Resultado: -324654653789189.0\n",
            "\n",
            "Escolha a operação:\n",
            "1 = Soma\n",
            "2 = Subtração\n",
            "3 = Multiplicação\n",
            "4 = Divisão\n",
            "5 = Divisão com resto\n",
            "0 = Sair\n",
            "Digite a opção: 0\n",
            "Saindo...\n"
          ]
        }
      ]
    }
  ]
}