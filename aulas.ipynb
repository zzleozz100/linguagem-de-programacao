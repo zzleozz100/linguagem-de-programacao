{
  "nbformat": 4,
  "nbformat_minor": 0,
  "metadata": {
    "colab": {
      "provenance": [],
      "toc_visible": true,
      "name": "aulas.ipynb",
      "authorship_tag": "ABX9TyPkVXFFQsyDztN4HMRVTXOk",
      "include_colab_link": true
    },
    "kernelspec": {
      "name": "python3",
      "display_name": "Python 3"
    },
    "language_info": {
      "name": "python"
    }
  },
  "cells": [
    {
      "cell_type": "markdown",
      "metadata": {
        "id": "view-in-github",
        "colab_type": "text"
      },
      "source": [
        "<a href=\"https://colab.research.google.com/github/zzleozz100/linguagem-de-programacao/blob/main/aulas.ipynb\" target=\"_parent\"><img src=\"https://colab.research.google.com/assets/colab-badge.svg\" alt=\"Open In Colab\"/></a>"
      ]
    },
    {
      "cell_type": "markdown",
      "source": [
        "# Aula 1/2 (20/08/2024)\n"
      ],
      "metadata": {
        "id": "DOQr5ukOItk9"
      }
    },
    {
      "cell_type": "code",
      "source": [
        "x = 10\n",
        "nome = \"João\"\n",
        "nota = '8.5'\n",
        "faz_incricao = True\n",
        "\n",
        "print(type(x))\n",
        "print(type(nome))\n",
        "print(type(nota))\n",
        "print(type(faz_incricao))"
      ],
      "metadata": {
        "colab": {
          "base_uri": "https://localhost:8080/"
        },
        "id": "VeeTLwctI0x7",
        "outputId": "f12c6850-4d0f-4706-c47a-9e1d6322cb38"
      },
      "execution_count": null,
      "outputs": [
        {
          "output_type": "stream",
          "name": "stdout",
          "text": [
            "<class 'int'>\n",
            "<class 'str'>\n",
            "<class 'str'>\n",
            "<class 'bool'>\n"
          ]
        }
      ]
    },
    {
      "cell_type": "code",
      "source": [
        "nome = input(\"Digite seu nome: \")\n",
        "print(f\"Olá {nome} prazer em te conhecer!\")"
      ],
      "metadata": {
        "colab": {
          "base_uri": "https://localhost:8080/"
        },
        "id": "KkLN2NPuJkiy",
        "outputId": "75adb40e-8b03-439a-f421-799bcdafbbde"
      },
      "execution_count": null,
      "outputs": [
        {
          "output_type": "stream",
          "name": "stdout",
          "text": [
            "Digite seu nome: Leonardo\n",
            "Olá Leonardo prazer em te conhecer!\n"
          ]
        }
      ]
    },
    {
      "cell_type": "code",
      "source": [
        "alteracao_teste = 0"
      ],
      "metadata": {
        "id": "clgxCZp0LsNq"
      },
      "execution_count": null,
      "outputs": []
    },
    {
      "cell_type": "markdown",
      "source": [
        "# Aula 3 ( 27/08/2023)"
      ],
      "metadata": {
        "id": "ItL5EZJOFHNl"
      }
    },
    {
      "cell_type": "code",
      "source": [
        "# Solicita os parametros\n",
        "nome = input(\"Digite o nome do aluno: \")\n",
        "faltas = int(input(\"Digite a quantidade de faltas: \"))\n",
        "atestado = int(input(\"Digite a quantidade de atestados: \"))\n",
        "\n",
        "#Calculo das faltas\n",
        "abonadas = faltas - atestado\n",
        "print(f'O aluno {nome} teve um total de {faltas} e um total de {atestado} atestados, oque teria {abonadas} ausências')\n",
        "\n",
        "# Loop para pedir notas\n",
        "b1 = float(input(\"Digite a nota da B1: \"))\n",
        "b2 = float(input(\"Digite a nota da B2: \"))\n",
        "\n",
        "#Media das provas\n",
        "media = (b1 + b2) / 2\n",
        "\n",
        "#Tomada de decisão para ver se foi aprovado\n",
        "if media<=7 and abonadas>=5:\n",
        "  print(f'O aluno {nome} foi aprovado')\n",
        "\n",
        "elif abonadas>5:\n",
        "  print(f'O aluno {nome} foi reprovado por falta')\n",
        "#Caso o aluno tenha ficado de exame\n",
        "else:\n",
        "  exame = input(\"O aluno teve exame? (S/N): \")\n",
        "  if exame == \"S\":\n",
        "    exame_nota = float(input(\"Digite a nota do exame: \"))\n",
        "    if exame_nota >= 7:\n",
        "      print(f'O aluno {nome} foi aprovado no exame com {exame_nota}')\n",
        "    else:\n",
        "      print(f'O aluno {nome} foi reprovado no exame com {exame_nota}')\n",
        "  else:\n",
        "    print(f'O aluno {nome} não compareceu ao exame, portanto foi reprovado')\n",
        "\n"
      ],
      "metadata": {
        "colab": {
          "base_uri": "https://localhost:8080/"
        },
        "id": "S-7F7Y3LFU7Y",
        "outputId": "072ced2a-1f02-4056-adf0-f208206892ea"
      },
      "execution_count": null,
      "outputs": [
        {
          "output_type": "stream",
          "name": "stdout",
          "text": [
            "Digite o nome do aluno: Leonardo\n",
            "Digite a quantidade de faltas: 10\n",
            "Digite a quantidade de atestados: 2\n",
            "O aluno Leonardo teve um total de 10 e um total de 2 atestados, oque teria 8 ausências\n",
            "Digite a nota da B1: 10\n",
            "Digite a nota da B2: 5\n",
            "O aluno Leonardo foi reprovado por falta\n"
          ]
        }
      ]
    },
    {
      "cell_type": "code",
      "source": [
        "#Criando um sistema onde adiciono varios alunos com diferente notas e faltas e verifica quantos reprovaram e quem são e quando ficaram de DP\n",
        "\n",
        "\n",
        "# Função que armazena os alunos\n",
        "def adicionar_alunos():\n",
        "    alunos = []\n",
        "    while True:\n",
        "        print()\n",
        "        nome = input(\"Digite o nome do aluno: \")\n",
        "        b1 = float(input(\"Digite a nota da B1: \"))\n",
        "        b2 = float(input(\"Digite a nota da B2: \"))\n",
        "        faltas = int(input(\"Digite a quantidade de faltas: \"))\n",
        "        atestado = int(input(\"Digite a quantidade de atestados: \"))\n",
        "\n",
        "        aluno = {\n",
        "            \"nome\": nome,\n",
        "            \"b1\": b1,\n",
        "            \"b2\": b2,\n",
        "            \"faltas\": faltas,\n",
        "            \"atestado\": atestado\n",
        "        }\n",
        "        alunos.append(aluno)\n",
        "\n",
        "        continuar = input(\"Deseja adicionar outro aluno? (S/N): \")\n",
        "        if continuar.upper() != \"S\":\n",
        "            break\n",
        "\n",
        "    return alunos\n",
        "\n",
        "# Função que exibe os alunos\n",
        "def exibir_alunos(alunos):\n",
        "    for aluno in alunos:\n",
        "        media = (aluno['b1'] + aluno['b2']) / 2\n",
        "        total_faltas = aluno['faltas'] - aluno['atestado']\n",
        "        print()\n",
        "        print(f\"Nome: {aluno['nome']}\")\n",
        "        print(f\"B1: {aluno['b1']}\")\n",
        "        print(f\"B2: {aluno['b2']}\")\n",
        "        print(f\"Média: {media:.2f}\")\n",
        "        print(f\"Total de Faltas: {total_faltas}\")\n",
        "        print()\n",
        "\n",
        "# Função que verifica reprovação, DP e aprovação\n",
        "def verificar_reprovacao(alunos):\n",
        "    reprovados = []\n",
        "    dp = []\n",
        "    aprovados = []\n",
        "    for aluno in alunos:\n",
        "        media = (aluno['b1'] + aluno['b2']) / 2\n",
        "        total_faltas = aluno['faltas'] - aluno['atestado']\n",
        "        if media < 6 or total_faltas > 5:\n",
        "            reprovados.append(aluno['nome'])\n",
        "        elif 6 < media < 7:\n",
        "            dp.append(aluno['nome'])\n",
        "        else:\n",
        "            aprovados.append(aluno['nome'])\n",
        "    return reprovados, dp, aprovados\n",
        "\n",
        "# Função principal\n",
        "def main():\n",
        "    print(\"Sistema de Registro de Alunos\")\n",
        "    alunos = adicionar_alunos()\n",
        "    exibir_alunos(alunos)\n",
        "    reprovados, dp, aprovados = verificar_reprovacao(alunos)\n",
        "\n",
        "    print(\"Alunos Reprovados:\")\n",
        "    for nome in reprovados:\n",
        "        print(nome)\n",
        "\n",
        "    print(\"\\nAlunos em DP:\")\n",
        "    for nome in dp:\n",
        "        print(nome)\n",
        "\n",
        "    print(\"\\nAlunos Aprovados:\")\n",
        "    for nome in aprovados:\n",
        "        print(nome)\n",
        "\n",
        "if __name__ == \"__main__\":\n",
        "    main()"
      ],
      "metadata": {
        "id": "RYJBbSUiP8PR",
        "outputId": "12bb2124-dab7-4236-eadc-5b311e4af6be",
        "colab": {
          "base_uri": "https://localhost:8080/",
          "height": 356
        }
      },
      "execution_count": null,
      "outputs": [
        {
          "output_type": "stream",
          "name": "stdout",
          "text": [
            "Sistema de Registro de Alunos\n",
            "\n"
          ]
        },
        {
          "output_type": "error",
          "ename": "KeyboardInterrupt",
          "evalue": "Interrupted by user",
          "traceback": [
            "\u001b[0;31m---------------------------------------------------------------------------\u001b[0m",
            "\u001b[0;31mKeyboardInterrupt\u001b[0m                         Traceback (most recent call last)",
            "\u001b[0;32m<ipython-input-5-195cdc6c2011>\u001b[0m in \u001b[0;36m<cell line: 78>\u001b[0;34m()\u001b[0m\n\u001b[1;32m     77\u001b[0m \u001b[0;34m\u001b[0m\u001b[0m\n\u001b[1;32m     78\u001b[0m \u001b[0;32mif\u001b[0m \u001b[0m__name__\u001b[0m \u001b[0;34m==\u001b[0m \u001b[0;34m\"__main__\"\u001b[0m\u001b[0;34m:\u001b[0m\u001b[0;34m\u001b[0m\u001b[0;34m\u001b[0m\u001b[0m\n\u001b[0;32m---> 79\u001b[0;31m     \u001b[0mmain\u001b[0m\u001b[0;34m(\u001b[0m\u001b[0;34m)\u001b[0m\u001b[0;34m\u001b[0m\u001b[0;34m\u001b[0m\u001b[0m\n\u001b[0m",
            "\u001b[0;32m<ipython-input-5-195cdc6c2011>\u001b[0m in \u001b[0;36mmain\u001b[0;34m()\u001b[0m\n\u001b[1;32m     60\u001b[0m \u001b[0;32mdef\u001b[0m \u001b[0mmain\u001b[0m\u001b[0;34m(\u001b[0m\u001b[0;34m)\u001b[0m\u001b[0;34m:\u001b[0m\u001b[0;34m\u001b[0m\u001b[0;34m\u001b[0m\u001b[0m\n\u001b[1;32m     61\u001b[0m     \u001b[0mprint\u001b[0m\u001b[0;34m(\u001b[0m\u001b[0;34m\"Sistema de Registro de Alunos\"\u001b[0m\u001b[0;34m)\u001b[0m\u001b[0;34m\u001b[0m\u001b[0;34m\u001b[0m\u001b[0m\n\u001b[0;32m---> 62\u001b[0;31m     \u001b[0malunos\u001b[0m \u001b[0;34m=\u001b[0m \u001b[0madicionar_alunos\u001b[0m\u001b[0;34m(\u001b[0m\u001b[0;34m)\u001b[0m\u001b[0;34m\u001b[0m\u001b[0;34m\u001b[0m\u001b[0m\n\u001b[0m\u001b[1;32m     63\u001b[0m     \u001b[0mexibir_alunos\u001b[0m\u001b[0;34m(\u001b[0m\u001b[0malunos\u001b[0m\u001b[0;34m)\u001b[0m\u001b[0;34m\u001b[0m\u001b[0;34m\u001b[0m\u001b[0m\n\u001b[1;32m     64\u001b[0m     \u001b[0mreprovados\u001b[0m\u001b[0;34m,\u001b[0m \u001b[0mdp\u001b[0m\u001b[0;34m,\u001b[0m \u001b[0maprovados\u001b[0m \u001b[0;34m=\u001b[0m \u001b[0mverificar_reprovacao\u001b[0m\u001b[0;34m(\u001b[0m\u001b[0malunos\u001b[0m\u001b[0;34m)\u001b[0m\u001b[0;34m\u001b[0m\u001b[0;34m\u001b[0m\u001b[0m\n",
            "\u001b[0;32m<ipython-input-5-195cdc6c2011>\u001b[0m in \u001b[0;36madicionar_alunos\u001b[0;34m()\u001b[0m\n\u001b[1;32m      7\u001b[0m     \u001b[0;32mwhile\u001b[0m \u001b[0;32mTrue\u001b[0m\u001b[0;34m:\u001b[0m\u001b[0;34m\u001b[0m\u001b[0;34m\u001b[0m\u001b[0m\n\u001b[1;32m      8\u001b[0m         \u001b[0mprint\u001b[0m\u001b[0;34m(\u001b[0m\u001b[0;34m)\u001b[0m\u001b[0;34m\u001b[0m\u001b[0;34m\u001b[0m\u001b[0m\n\u001b[0;32m----> 9\u001b[0;31m         \u001b[0mnome\u001b[0m \u001b[0;34m=\u001b[0m \u001b[0minput\u001b[0m\u001b[0;34m(\u001b[0m\u001b[0;34m\"Digite o nome do aluno: \"\u001b[0m\u001b[0;34m)\u001b[0m\u001b[0;34m\u001b[0m\u001b[0;34m\u001b[0m\u001b[0m\n\u001b[0m\u001b[1;32m     10\u001b[0m         \u001b[0mb1\u001b[0m \u001b[0;34m=\u001b[0m \u001b[0mfloat\u001b[0m\u001b[0;34m(\u001b[0m\u001b[0minput\u001b[0m\u001b[0;34m(\u001b[0m\u001b[0;34m\"Digite a nota da B1: \"\u001b[0m\u001b[0;34m)\u001b[0m\u001b[0;34m)\u001b[0m\u001b[0;34m\u001b[0m\u001b[0;34m\u001b[0m\u001b[0m\n\u001b[1;32m     11\u001b[0m         \u001b[0mb2\u001b[0m \u001b[0;34m=\u001b[0m \u001b[0mfloat\u001b[0m\u001b[0;34m(\u001b[0m\u001b[0minput\u001b[0m\u001b[0;34m(\u001b[0m\u001b[0;34m\"Digite a nota da B2: \"\u001b[0m\u001b[0;34m)\u001b[0m\u001b[0;34m)\u001b[0m\u001b[0;34m\u001b[0m\u001b[0;34m\u001b[0m\u001b[0m\n",
            "\u001b[0;32m/usr/local/lib/python3.10/dist-packages/ipykernel/kernelbase.py\u001b[0m in \u001b[0;36mraw_input\u001b[0;34m(self, prompt)\u001b[0m\n\u001b[1;32m    849\u001b[0m                 \u001b[0;34m\"raw_input was called, but this frontend does not support input requests.\"\u001b[0m\u001b[0;34m\u001b[0m\u001b[0;34m\u001b[0m\u001b[0m\n\u001b[1;32m    850\u001b[0m             )\n\u001b[0;32m--> 851\u001b[0;31m         return self._input_request(str(prompt),\n\u001b[0m\u001b[1;32m    852\u001b[0m             \u001b[0mself\u001b[0m\u001b[0;34m.\u001b[0m\u001b[0m_parent_ident\u001b[0m\u001b[0;34m,\u001b[0m\u001b[0;34m\u001b[0m\u001b[0;34m\u001b[0m\u001b[0m\n\u001b[1;32m    853\u001b[0m             \u001b[0mself\u001b[0m\u001b[0;34m.\u001b[0m\u001b[0m_parent_header\u001b[0m\u001b[0;34m,\u001b[0m\u001b[0;34m\u001b[0m\u001b[0;34m\u001b[0m\u001b[0m\n",
            "\u001b[0;32m/usr/local/lib/python3.10/dist-packages/ipykernel/kernelbase.py\u001b[0m in \u001b[0;36m_input_request\u001b[0;34m(self, prompt, ident, parent, password)\u001b[0m\n\u001b[1;32m    893\u001b[0m             \u001b[0;32mexcept\u001b[0m \u001b[0mKeyboardInterrupt\u001b[0m\u001b[0;34m:\u001b[0m\u001b[0;34m\u001b[0m\u001b[0;34m\u001b[0m\u001b[0m\n\u001b[1;32m    894\u001b[0m                 \u001b[0;31m# re-raise KeyboardInterrupt, to truncate traceback\u001b[0m\u001b[0;34m\u001b[0m\u001b[0;34m\u001b[0m\u001b[0m\n\u001b[0;32m--> 895\u001b[0;31m                 \u001b[0;32mraise\u001b[0m \u001b[0mKeyboardInterrupt\u001b[0m\u001b[0;34m(\u001b[0m\u001b[0;34m\"Interrupted by user\"\u001b[0m\u001b[0;34m)\u001b[0m \u001b[0;32mfrom\u001b[0m \u001b[0;32mNone\u001b[0m\u001b[0;34m\u001b[0m\u001b[0;34m\u001b[0m\u001b[0m\n\u001b[0m\u001b[1;32m    896\u001b[0m             \u001b[0;32mexcept\u001b[0m \u001b[0mException\u001b[0m \u001b[0;32mas\u001b[0m \u001b[0me\u001b[0m\u001b[0;34m:\u001b[0m\u001b[0;34m\u001b[0m\u001b[0;34m\u001b[0m\u001b[0m\n\u001b[1;32m    897\u001b[0m                 \u001b[0mself\u001b[0m\u001b[0;34m.\u001b[0m\u001b[0mlog\u001b[0m\u001b[0;34m.\u001b[0m\u001b[0mwarning\u001b[0m\u001b[0;34m(\u001b[0m\u001b[0;34m\"Invalid Message:\"\u001b[0m\u001b[0;34m,\u001b[0m \u001b[0mexc_info\u001b[0m\u001b[0;34m=\u001b[0m\u001b[0;32mTrue\u001b[0m\u001b[0;34m)\u001b[0m\u001b[0;34m\u001b[0m\u001b[0;34m\u001b[0m\u001b[0m\n",
            "\u001b[0;31mKeyboardInterrupt\u001b[0m: Interrupted by user"
          ]
        }
      ]
    },
    {
      "cell_type": "code",
      "source": [],
      "metadata": {
        "id": "2OrV5bLlYuid"
      },
      "execution_count": null,
      "outputs": []
    },
    {
      "cell_type": "markdown",
      "source": [
        "# Aula 4 (01/10/2024)\n"
      ],
      "metadata": {
        "id": "Zbh0uuuMhkCW"
      }
    },
    {
      "cell_type": "code",
      "source": [
        "class Calculadora:\n",
        "    def somar(self, n1, n2):\n",
        "        return n1 + n2\n",
        "\n",
        "    def subtrair(self, n1, n2):\n",
        "        return n1 - n2\n",
        "\n",
        "    def multiplicar(self, n1, n2):\n",
        "        return n1 * n2\n",
        "\n",
        "    def dividir(self, n1, n2):\n",
        "        return n1 / n2\n",
        "\n",
        "    def dividir_resto(self, n1, n2):\n",
        "        return n1 % n2\n",
        "\n",
        "calc = Calculadora()\n",
        "\n",
        "while True:\n",
        "    print(\"\\nEscolha a operação:\")\n",
        "    print(\"1 = Soma\")\n",
        "    print(\"2 = Subtração\")\n",
        "    print(\"3 = Multiplicação\")\n",
        "    print(\"4 = Divisão\")\n",
        "    print(\"5 = Divisão com resto\")\n",
        "    print(\"0 = Sair\")\n",
        "\n",
        "    opcao = str(input(\"Digite a opção: \"))\n",
        "\n",
        "    if opcao == \"0\":\n",
        "        print(\"Saindo...\")\n",
        "        break\n",
        "    elif opcao in ['1', '2', '3', '4', '5']:\n",
        "        n1 = float(input(\"Digite o primeiro número: \"))\n",
        "        n2 = float(input(\"Digite o segundo número: \"))\n",
        "\n",
        "        if opcao == '1':\n",
        "            print(f\"Resultado: {calc.somar(n1, n2)}\")\n",
        "        elif opcao == '2':\n",
        "            print(f\"Resultado: {calc.subtrair(n1, n2)}\")\n",
        "        elif opcao == '3':\n",
        "            print(f\"Resultado: {calc.multiplicar(n1, n2)}\")\n",
        "        elif opcao == '4':\n",
        "            print(f\"Resultado: {calc.dividir(n1, n2)}\")\n",
        "        elif opcao == '5':\n",
        "            print(f\"Resultado: {calc.dividir_resto(n1, n2)}\")\n",
        "    else:\n",
        "        print(\"Código inválido. Tente novamente.\")\n"
      ],
      "metadata": {
        "id": "_A5Ygltxhoq9",
        "outputId": "23e9dd7d-3b11-4c67-b872-a904e482cac4",
        "colab": {
          "base_uri": "https://localhost:8080/",
          "height": 495
        }
      },
      "execution_count": null,
      "outputs": [
        {
          "output_type": "stream",
          "name": "stdout",
          "text": [
            "\n",
            "Escolha a operação:\n",
            "1 = Soma\n",
            "2 = Subtração\n",
            "3 = Multiplicação\n",
            "4 = Divisão\n",
            "5 = Divisão com resto\n",
            "0 = Sair\n"
          ]
        },
        {
          "output_type": "error",
          "ename": "KeyboardInterrupt",
          "evalue": "Interrupted by user",
          "traceback": [
            "\u001b[0;31m---------------------------------------------------------------------------\u001b[0m",
            "\u001b[0;31mKeyboardInterrupt\u001b[0m                         Traceback (most recent call last)",
            "\u001b[0;32m<ipython-input-29-f419427e4626>\u001b[0m in \u001b[0;36m<cell line: 19>\u001b[0;34m()\u001b[0m\n\u001b[1;32m     26\u001b[0m     \u001b[0mprint\u001b[0m\u001b[0;34m(\u001b[0m\u001b[0;34m\"0 = Sair\"\u001b[0m\u001b[0;34m)\u001b[0m\u001b[0;34m\u001b[0m\u001b[0;34m\u001b[0m\u001b[0m\n\u001b[1;32m     27\u001b[0m \u001b[0;34m\u001b[0m\u001b[0m\n\u001b[0;32m---> 28\u001b[0;31m     \u001b[0mopcao\u001b[0m \u001b[0;34m=\u001b[0m \u001b[0mstr\u001b[0m\u001b[0;34m(\u001b[0m\u001b[0minput\u001b[0m\u001b[0;34m(\u001b[0m\u001b[0;34m\"Digite a opção: \"\u001b[0m\u001b[0;34m)\u001b[0m\u001b[0;34m)\u001b[0m\u001b[0;34m\u001b[0m\u001b[0;34m\u001b[0m\u001b[0m\n\u001b[0m\u001b[1;32m     29\u001b[0m \u001b[0;34m\u001b[0m\u001b[0m\n\u001b[1;32m     30\u001b[0m     \u001b[0;32mif\u001b[0m \u001b[0mopcao\u001b[0m \u001b[0;34m==\u001b[0m \u001b[0;34m\"0\"\u001b[0m\u001b[0;34m:\u001b[0m\u001b[0;34m\u001b[0m\u001b[0;34m\u001b[0m\u001b[0m\n",
            "\u001b[0;32m/usr/local/lib/python3.10/dist-packages/ipykernel/kernelbase.py\u001b[0m in \u001b[0;36mraw_input\u001b[0;34m(self, prompt)\u001b[0m\n\u001b[1;32m    849\u001b[0m                 \u001b[0;34m\"raw_input was called, but this frontend does not support input requests.\"\u001b[0m\u001b[0;34m\u001b[0m\u001b[0;34m\u001b[0m\u001b[0m\n\u001b[1;32m    850\u001b[0m             )\n\u001b[0;32m--> 851\u001b[0;31m         return self._input_request(str(prompt),\n\u001b[0m\u001b[1;32m    852\u001b[0m             \u001b[0mself\u001b[0m\u001b[0;34m.\u001b[0m\u001b[0m_parent_ident\u001b[0m\u001b[0;34m,\u001b[0m\u001b[0;34m\u001b[0m\u001b[0;34m\u001b[0m\u001b[0m\n\u001b[1;32m    853\u001b[0m             \u001b[0mself\u001b[0m\u001b[0;34m.\u001b[0m\u001b[0m_parent_header\u001b[0m\u001b[0;34m,\u001b[0m\u001b[0;34m\u001b[0m\u001b[0;34m\u001b[0m\u001b[0m\n",
            "\u001b[0;32m/usr/local/lib/python3.10/dist-packages/ipykernel/kernelbase.py\u001b[0m in \u001b[0;36m_input_request\u001b[0;34m(self, prompt, ident, parent, password)\u001b[0m\n\u001b[1;32m    893\u001b[0m             \u001b[0;32mexcept\u001b[0m \u001b[0mKeyboardInterrupt\u001b[0m\u001b[0;34m:\u001b[0m\u001b[0;34m\u001b[0m\u001b[0;34m\u001b[0m\u001b[0m\n\u001b[1;32m    894\u001b[0m                 \u001b[0;31m# re-raise KeyboardInterrupt, to truncate traceback\u001b[0m\u001b[0;34m\u001b[0m\u001b[0;34m\u001b[0m\u001b[0m\n\u001b[0;32m--> 895\u001b[0;31m                 \u001b[0;32mraise\u001b[0m \u001b[0mKeyboardInterrupt\u001b[0m\u001b[0;34m(\u001b[0m\u001b[0;34m\"Interrupted by user\"\u001b[0m\u001b[0;34m)\u001b[0m \u001b[0;32mfrom\u001b[0m \u001b[0;32mNone\u001b[0m\u001b[0;34m\u001b[0m\u001b[0;34m\u001b[0m\u001b[0m\n\u001b[0m\u001b[1;32m    896\u001b[0m             \u001b[0;32mexcept\u001b[0m \u001b[0mException\u001b[0m \u001b[0;32mas\u001b[0m \u001b[0me\u001b[0m\u001b[0;34m:\u001b[0m\u001b[0;34m\u001b[0m\u001b[0;34m\u001b[0m\u001b[0m\n\u001b[1;32m    897\u001b[0m                 \u001b[0mself\u001b[0m\u001b[0;34m.\u001b[0m\u001b[0mlog\u001b[0m\u001b[0;34m.\u001b[0m\u001b[0mwarning\u001b[0m\u001b[0;34m(\u001b[0m\u001b[0;34m\"Invalid Message:\"\u001b[0m\u001b[0;34m,\u001b[0m \u001b[0mexc_info\u001b[0m\u001b[0;34m=\u001b[0m\u001b[0;32mTrue\u001b[0m\u001b[0;34m)\u001b[0m\u001b[0;34m\u001b[0m\u001b[0;34m\u001b[0m\u001b[0m\n",
            "\u001b[0;31mKeyboardInterrupt\u001b[0m: Interrupted by user"
          ]
        }
      ]
    },
    {
      "cell_type": "markdown",
      "source": [
        "# Aula 5 (08/10/2024)\n"
      ],
      "metadata": {
        "id": "t7AjEzgPeTDx"
      }
    },
    {
      "source": [
        "class ContaCorrente:\n",
        "  def __init__(self, nome=None, email=None, telefone=None, saldo=0.0):\n",
        "    self.nome = nome\n",
        "    self.email = email\n",
        "    self.telefone = telefone\n",
        "    self.saldo = saldo\n",
        "\n",
        "  def _checar_saldo(self,valor):\n",
        "    return self.saldo >= valor\n",
        "\n",
        "  def depositar(self,valor):\n",
        "    self.saldo += valor\n",
        "\n",
        "  def sacar(self,valor):\n",
        "    if self._checar_saldo(valor):\n",
        "      self.saldo -= valor\n",
        "      return True\n",
        "    else:\n",
        "      return False\n",
        "\n",
        "  def obter_saldo(self):\n",
        "    return self.saldo\n",
        "\n",
        "class ContaPF(ContaCorrente):\n",
        "  def __init__(self,nome,cpf):\n",
        "    super().__init__(nome=nome)\n",
        "    self.cpf = cpf\n",
        "\n",
        "  def solicitar_emprestimo(self,valor):\n",
        "    return self.obter_saldo() >= 500\n",
        "\n",
        "class ContaPj(ContaCorrente):\n",
        "  def __init__(self,nome,cnpj):\n",
        "    super().__init__(nome=nome)\n",
        "    self.cnpj = cnpj\n",
        "\n",
        "  def solicitar_emprestimo(self,valor):\n",
        "    return self.obter_saldo() >= 5000\n",
        "\n",
        "conta_pf1 = ContaPF(\"João\", '111.111.111-11')\n",
        "conta_pf1.depositar(1000)\n",
        "print('\\nSaldo atual é', conta_pf1.obter_saldo())\n",
        "print('Receberá empréstimo = ', conta_pf1.solicitar_emprestimo(2000))\n",
        "\n",
        "conta_pf1.sacar(800)\n",
        "print('Saldo atual é', conta_pf1.obter_saldo())\n",
        "print('Receberá empréstimo = ', conta_pf1.solicitar_emprestimo(2000))\n",
        "\n",
        "conta_pj1 = ContaPj(\"Empresa A\", \"11.111.111/1111-11\")\n",
        "print('\\nSaldo atual é', conta_pj1.obter_saldo())\n",
        "print('Receberá empréstimo = ', conta_pj1.solicitar_emprestimo(3000))\n",
        "\n",
        "conta_pj1.depositar(10000)\n",
        "print('Saldo atual é', conta_pj1.obter_saldo())\n",
        "print('Receberá empréstimo = ', conta_pj1.solicitar_emprestimo(3000))\n",
        "\n",
        "conta_pj1.sacar(6000)\n",
        "print('\\nSaldo atual é', conta_pj1.obter_saldo())\n",
        "print('Receberá empréstimo = ', conta_pj1.solicitar_emprestimo(3000))"
      ],
      "cell_type": "code",
      "metadata": {
        "colab": {
          "base_uri": "https://localhost:8080/"
        },
        "id": "ElqTzPC4mspb",
        "outputId": "045880c4-005f-49a2-8508-9752ab2746b8"
      },
      "execution_count": null,
      "outputs": [
        {
          "output_type": "stream",
          "name": "stdout",
          "text": [
            "\n",
            "Saldo atual é 1000.0\n",
            "Receberá empréstimo =  True\n",
            "Saldo atual é 200.0\n",
            "Receberá empréstimo =  False\n",
            "\n",
            "Saldo atual é 0.0\n",
            "Receberá empréstimo =  False\n",
            "Saldo atual é 10000.0\n",
            "Receberá empréstimo =  True\n",
            "\n",
            "Saldo atual é 4000.0\n",
            "Receberá empréstimo =  False\n"
          ]
        }
      ]
    },
    {
      "cell_type": "markdown",
      "source": [
        "# Aula 6 (15/10/2024)\n"
      ],
      "metadata": {
        "id": "DLCrIwzyU5-g"
      }
    },
    {
      "cell_type": "code",
      "source": [
        "# Importando banco de dados\n",
        "import sqlite3\n",
        "\n",
        "# Connect to the database, using a new connection\n",
        "conn = sqlite3.connect('DBaula.db')\n",
        "\n",
        "cursor = conn.cursor()\n",
        "\n",
        "# Criando tabela se ela não existir\n",
        "\n",
        "cursor.execute(\"\"\"\n",
        "CREATE TABLE IF NOT EXISTS fornecedor (\n",
        "  nome_fornecedor ,\n",
        "  cnpj  ,\n",
        "  cidade ,\n",
        "  estado ,\n",
        "  cep ,\n",
        "  data_cadastro\n",
        ")\n",
        "\"\"\")\n",
        "\n",
        "# Adicionando dados em seus respequitivos campos\n",
        "cursor.execute(\"\"\"\n",
        "INSERT INTO fornecedor\n",
        "(nome_fornecedor,\n",
        "cnpj,\n",
        "cidade,\n",
        "estado,\n",
        "cep,\n",
        "data_cadastro)\n",
        "VALUES ('empresa A',\n",
        "'11.111.111/1111-11',\n",
        "'São Paulo',\n",
        "'SP',\n",
        "'11111-111',\n",
        "'2020-01-01')\n",
        "\"\"\")\n",
        "\n",
        "conn.commit()\n",
        "\n"
      ],
      "metadata": {
        "id": "vzEIkax7VD9G"
      },
      "execution_count": null,
      "outputs": []
    },
    {
      "cell_type": "code",
      "source": [
        "cursor.execute(\"SELECT * FROM fornecedor\")\n",
        "resultado = cursor.fetchall()\n",
        "for linha in resultado:\n",
        "    print(linha)\n",
        "\n"
      ],
      "metadata": {
        "id": "TP-BL6yhbNMW",
        "outputId": "48ce3cbe-9359-4796-8794-c4673ff02852",
        "colab": {
          "base_uri": "https://localhost:8080/"
        }
      },
      "execution_count": null,
      "outputs": [
        {
          "output_type": "stream",
          "name": "stdout",
          "text": [
            "('empresa A', '11.111.111/1111-11', 'São Paulo', 'SP', '11111-111', '2020-01-01')\n"
          ]
        }
      ]
    },
    {
      "cell_type": "code",
      "source": [
        "cursor.execute(\"\"\"\n",
        "INSERT INTO fornecedor\n",
        "(nome_fornecedor,\n",
        "cnpj,\n",
        "cidade,\n",
        "estado,\n",
        "cep,\n",
        "data_cadastro)\n",
        "VALUES ('empresa B',\n",
        "'22.222.222/2222-22',\n",
        "'Osasco',\n",
        "'OS',\n",
        "'22222-222',\n",
        "'2022-01-01')\n",
        "\"\"\")\n",
        "\n",
        "cursor.execute(\"SELECT * FROM fornecedor\")\n",
        "resultado = cursor.fetchall()\n",
        "for linha in resultado:\n",
        "    print(linha)"
      ],
      "metadata": {
        "id": "mGpYvh2BpgWI",
        "outputId": "647ca560-6fb0-4039-afd8-1fba030c1de6",
        "colab": {
          "base_uri": "https://localhost:8080/"
        }
      },
      "execution_count": null,
      "outputs": [
        {
          "output_type": "stream",
          "name": "stdout",
          "text": [
            "('empresa A', '11.111.111/1111-11', 'São Paulo', 'SP', '11111-111', '2020-01-01')\n",
            "('empresa B', '22.222.222/2222-22', 'Osasco', 'OS', '22222-222', '2022-01-01')\n"
          ]
        }
      ]
    },
    {
      "cell_type": "code",
      "source": [
        "cursor.execute(\"UPDATE fornecedor SET cidade = 'Campinas', estado = 'SP' WHERE nome_fornecedor = 'empresa B'\")\n",
        "cursor.execute(\"SELECT * FROM fornecedor\")\n",
        "resultado = cursor.fetchall()\n",
        "for linha in resultado:\n",
        "    print(linha)"
      ],
      "metadata": {
        "id": "7SMKgB6Op8YO",
        "outputId": "f1c5392b-e18b-4d46-f92a-627a12bb91d8",
        "colab": {
          "base_uri": "https://localhost:8080/"
        }
      },
      "execution_count": null,
      "outputs": [
        {
          "output_type": "stream",
          "name": "stdout",
          "text": [
            "('empresa A', '11.111.111/1111-11', 'São Paulo', 'SP', '11111-111', '2020-01-01')\n",
            "('empresa B', '22.222.222/2222-22', 'Campinas', 'SP', '22222-222', '2022-01-01')\n"
          ]
        }
      ]
    },
    {
      "cell_type": "code",
      "source": [
        "cursor.execute(\"DELETE FROM fornecedor WHERE nome_fornecedor = 'empresa B'\")\n",
        "cursor.execute(\"SELECT * FROM fornecedor\")\n",
        "resultado = cursor.fetchall()\n",
        "for linha in resultado:\n",
        "    print(linha)"
      ],
      "metadata": {
        "id": "EpTah6WmqSc2",
        "outputId": "3227d032-efb5-4352-cfa5-4478c4f57145",
        "colab": {
          "base_uri": "https://localhost:8080/"
        }
      },
      "execution_count": null,
      "outputs": [
        {
          "output_type": "stream",
          "name": "stdout",
          "text": [
            "('empresa A', '11.111.111/1111-11', 'São Paulo', 'SP', '11111-111', '2020-01-01')\n"
          ]
        }
      ]
    },
    {
      "cell_type": "code",
      "source": [
        "cursor.execute(\"DROP TABLE fornecedor\")\n",
        "print(\"Tabela fornecedor excluida com sucesso\")"
      ],
      "metadata": {
        "id": "Mc_4Wx09qzl2",
        "outputId": "d248480b-7c2b-435c-b7a7-66e54f3e315e",
        "colab": {
          "base_uri": "https://localhost:8080/"
        }
      },
      "execution_count": null,
      "outputs": [
        {
          "output_type": "stream",
          "name": "stdout",
          "text": [
            "Tabela fornecedor excluida com sucesso\n"
          ]
        }
      ]
    },
    {
      "cell_type": "markdown",
      "source": [
        "# Aula 7 (22/10/2024)\n"
      ],
      "metadata": {
        "id": "6TH12eT9RQ_l"
      }
    },
    {
      "cell_type": "code",
      "source": [
        "# Importando banco de dados\n",
        "import sqlite3\n",
        "# Connect to the database, using a new connection\n",
        "conn = sqlite3.connect('locadora.db')\n",
        "\n",
        "cursor = conn.cursor()\n",
        "\n",
        "# Criando tabela se ela não existir\n",
        "\n",
        "\n",
        "cursor.execute(\"\"\"\n",
        "CREATE TABLE IF NOT EXISTS cliente (\n",
        "  id_cliente INTEGER PRIMARY KEY AUTOINCREMENT,\n",
        "  nome TEXT,\n",
        "  sobrenome TEXT,\n",
        "  sexo TEXT,\n",
        "  nascimento TEXT,\n",
        "  cpf TEXT,\n",
        "  nome_pai TEXT,\n",
        "  nome_mae TEXT,\n",
        "  email TEXT,\n",
        "  telefone TEXT,\n",
        "  endereco TEXT,\n",
        "  complemento TEXT,\n",
        "  bairro TEXT,\n",
        "  cidade TEXT,\n",
        "  estado TEXT,\n",
        "  cep TEXT,\n",
        "  tipo_filme_favorito TEXT,\n",
        "  tipo_game_favorito TEXT\n",
        ")\n",
        "\"\"\")\n",
        "\n",
        "cursor.execute(\"\"\"\n",
        "CREATE TABLE IF NOT EXISTS locacao (\n",
        "  id_locacao INTEGER PRIMARY KEY AUTOINCREMENT,\n",
        "  tipo_locacao TEXT,\n",
        "  valor_locacao REAL,\n",
        "  data_locacao DATE,\n",
        "  data_devolucao DATE,\n",
        "  id_cliente INTEGER,\n",
        "  nome_locacao TEXT\n",
        ")\n",
        "\"\"\")\n",
        "\n",
        "conn.commit()\n",
        "print(\"Tabela cliente criada com sucesso\")\n",
        "print(\"Tabela locacao criada com sucesso\")\n",
        "\n",
        "#---------------------------------------------------------------------------------------\n",
        "def cadastrar_clientes_teste(cursor):\n",
        "    nomes = [\"Ana\", \"Bruno\", \"Carlos\", \"Daniela\", \"Eduardo\", \"Fernanda\", \"Gabriel\", \"Helena\", \"Igor\", \"Júlia\"]\n",
        "    sobrenomes = [\"Silva\", \"Souza\", \"Oliveira\", \"Costa\", \"Santos\", \"Pereira\", \"Ferreira\", \"Rodrigues\", \"Almeida\", \"Lima\"]\n",
        "    sexos = ['M', 'F', 'O']\n",
        "    tipos_filme_favorito = ['Ação', 'Comédia', 'Drama', 'Terror', 'Romance']\n",
        "    tipos_game_favorito = ['RPG', 'Ação', 'Aventura', 'Esportes', 'Estratégia']\n",
        "\n",
        "    for i in range(10):\n",
        "        nome = nomes[i % len(nomes)]\n",
        "        sobrenome = sobrenomes[i % len(sobrenomes)]\n",
        "        sexo = sexos[i % len(sexos)]\n",
        "        nascimento = f\"199{i}-01-01\"  # Simplificação para datas de nascimento\n",
        "        cpf = f\"000.000.00{i}\"\n",
        "        nome_pai = f\"Pai_{nome}\"\n",
        "        nome_mae = f\"Mãe_{nome}\"\n",
        "        email = f\"{nome.lower()}{i}@exemplo.com\"\n",
        "        telefone = f\"(11) 0000-000{i}\"\n",
        "        endereco = f\"Endereço {i}\"\n",
        "        complemento = f\"Complemento {i}\"\n",
        "        bairro = f\"Bairro {i}\"\n",
        "        cidade = f\"Cidade {i}\"\n",
        "        estado = f\"Estado {i}\"\n",
        "        cep = f\"00000-00{i}\"\n",
        "        tipo_filme_favorito = tipos_filme_favorito[i % len(tipos_filme_favorito)]\n",
        "        tipo_game_favorito = tipos_game_favorito[i % len(tipos_game_favorito)]\n",
        "\n",
        "        cursor.execute(\"\"\"\n",
        "            INSERT INTO cliente (nome, sobrenome, sexo, nascimento, cpf, nome_pai, nome_mae, email, telefone, endereco, complemento, bairro, cidade, estado, cep, tipo_filme_favorito, tipo_game_favorito)\n",
        "            VALUES (?, ?, ?, ?, ?, ?, ?, ?, ?, ?, ?, ?, ?, ?, ?, ?, ?)\n",
        "        \"\"\", (nome, sobrenome, sexo, nascimento, cpf, nome_pai, nome_mae, email, telefone, endereco, complemento, bairro, cidade, estado, cep, tipo_filme_favorito, tipo_game_favorito))\n",
        "\n",
        "    conn.commit()\n",
        "    print(\"10 clientes de teste cadastrados com sucesso!\")\n",
        "\n",
        "#---------------------------------------------------------------------------------------\n",
        "\n",
        "\n",
        "def cadastrar_cliente(cursor):\n",
        "  nome = input(\"Digite o nome do cliente: \")\n",
        "  sobrenome = input(\"Digite o sobrenome do cliente: \")\n",
        "\n",
        "  while True:\n",
        "    sexo = input(\"Digite o genero do clinte: (M/F/O)\").upper()\n",
        "    if sexo in ['M', 'F', 'O']:\n",
        "      break\n",
        "    else:\n",
        "      print(\"Tipo inválido. Digite F ou G.\")\n",
        "\n",
        "  nascimento = input(\"Digite a data de nascimento do cliente: \")\n",
        "  cpf = input(\"Digite o CPF do cliente: \")\n",
        "  nome_pai = input(\"Digite o nome do pai do cliente: \")\n",
        "  nome_mae = input(\"Digite o nome da mãe do cliente: \")\n",
        "  email = input(\"Digite o email do cliente: \")\n",
        "  telefone = input(\"Digite o telefone do cliente: \")\n",
        "  endereco = input(\"Digite o endereço do cliente: \")\n",
        "  complemento = input(\"Digite o complemento do cliente: \")\n",
        "  bairro = input(\"Digite o bairro do cliente: \")\n",
        "  cidade = input(\"Digite a cidade do cliente: \")\n",
        "  estado = input(\"Digite o estado do cliente: \")\n",
        "  cep = input(\"Digite o CEP do cliente: \")\n",
        "  tipo_filme_favorito = input(\"Digite o tipo de filme favorito do cliente: \")\n",
        "  tipo_game_favorito = input(\"Digite o tipo de game favorito do cliente: \")\n",
        "\n",
        "  cursor.execute(\"\"\"\n",
        "  INSERT INTO cliente (nome,sobrenome,sexo,nascimento,cpf,nome_pai,nome_mae,email,telefone,endereco,complemento,bairro,cidade,estado,cep,tipo_filme_favorito,tipo_game_favorito)\n",
        "  VALUES (?,?,?,?,?,?,?,?,?,?,?,?,?,?,?,?,?)\n",
        "  \"\"\", (nome,sobrenome,sexo,nascimento,cpf,nome_pai,nome_mae,email,telefone,endereco,complemento,bairro,cidade,estado,cep,tipo_filme_favorito,tipo_game_favorito ))\n",
        "  conn.commit()\n",
        "  print(\"Cliente cadastrado com sucesso!\")\n",
        "\n",
        "#---------------------------------------------------------------------------------------\n",
        "\n",
        "def alocar(cursor):\n",
        "    while True:\n",
        "        print(\"Escolha uma opção:\")\n",
        "        print(\"1. Cadastrar nova locação\")\n",
        "        print(\"2. Atualizar dados de uma locação\")\n",
        "        opcao = input(\"Digite o número da opção desejada: \")\n",
        "\n",
        "        if opcao == '1':\n",
        "            tipo_input = input(\"Digite o tipo de locação (F/G): \").upper()\n",
        "            valor_locacao = float(input(\"Digite o valor da locação: \"))\n",
        "            data_locacao = input(\"Digite a data de locação: \")\n",
        "            data_devolucao = input(\"Digite a data de devolução (ou deixe em branco se ainda não houver devolução): \")\n",
        "            if not data_devolucao:\n",
        "                data_devolucao = None\n",
        "            nome_locacao = input(\"Digite o nome da locação: \")\n",
        "\n",
        "            cursor.execute(\"\"\"\n",
        "                INSERT INTO locacao (tipo_locacao, valor_locacao, data_locacao, data_devolucao, nome_locacao)\n",
        "                VALUES (?, ?, ?, ?, ?)\n",
        "            \"\"\", (tipo_input, valor_locacao, data_locacao, data_devolucao, nome_locacao))\n",
        "            conn.commit()\n",
        "            print(\"Locação cadastrada com sucesso!\")\n",
        "\n",
        "        elif opcao == '2':\n",
        "            id_locacao = input(\"Digite o ID da locação a ser atualizada: \")\n",
        "            cursor.execute(\"SELECT * FROM locacao WHERE id_locacao = ?\", (id_locacao,))\n",
        "            locacao = cursor.fetchone()\n",
        "\n",
        "            if not locacao:\n",
        "                print(\"Locação não encontrada!\")\n",
        "                continue\n",
        "\n",
        "            print(\"Dados atuais da locação:\")\n",
        "            for idx, field in enumerate(cursor.description):\n",
        "                print(f\"{idx}: {field[0]} = {locacao[idx]}\")\n",
        "\n",
        "            while True:\n",
        "                campo = input(\"Digite o número do campo que você quer alterar (ou 'sair' para finalizar): \")\n",
        "                if campo.lower() == 'sair':\n",
        "                    break\n",
        "\n",
        "                try:\n",
        "                    campo = int(campo)\n",
        "                    if campo < 0 or campo >= len(locacao):\n",
        "                        print(\"Número de campo inválido. Tente novamente.\")\n",
        "                        continue\n",
        "                except ValueError:\n",
        "                    print(\"Entrada inválida. Tente novamente.\")\n",
        "                    continue\n",
        "\n",
        "                novo_valor = input(f\"Digite o novo valor para {cursor.description[campo][0]}: \")\n",
        "\n",
        "                query = f\"UPDATE locacao SET {cursor.description[campo][0]} = ? WHERE id_locacao = ?\"\n",
        "                cursor.execute(query, (novo_valor, id_locacao))\n",
        "                conn.commit()\n",
        "                print(\"Dado atualizado com sucesso!\")\n",
        "\n",
        "                cursor.execute(\"SELECT * FROM locacao WHERE id_locacao = ?\", (id_locacao,))\n",
        "                locacao = cursor.fetchone()\n",
        "                print(\"Dados atualizados da locação:\")\n",
        "                for idx, field in enumerate(cursor.description):\n",
        "                    print(f\"{idx}: {field[0]} = {locacao[idx]}\")\n",
        "\n",
        "        else:\n",
        "          print(\"Opção inválida! Tente novamente.\")\n",
        "\n",
        "        outra_operacao = input(\"Deseja realizar outra operação? (S/N): \").upper()\n",
        "        if outra_operacao != 'S':\n",
        "            break\n",
        "\n",
        "\n",
        "#---------------------------------------------------------------------------------------\n",
        "\n",
        "\n",
        "def alterar_cliente(cursor, id_cliente):\n",
        "    cursor.execute(\"SELECT * FROM cliente WHERE id_cliente = ?\", (id_cliente,))\n",
        "    cliente = cursor.fetchone()\n",
        "    if not cliente:\n",
        "        print(\"Cliente não encontrado!\")\n",
        "        return\n",
        "\n",
        "    print(f\"Dados atuais do cliente (ID {id_cliente}):\")\n",
        "    for idx, field in enumerate(cursor.description):\n",
        "        print(f\"{idx}: {field[0]} = {cliente[idx]}\")\n",
        "\n",
        "    while True:\n",
        "        campo = input(\"Digite o número do campo que você quer alterar (ou 'sair' para finalizar): \")\n",
        "        if campo.lower() == 'sair':\n",
        "            break\n",
        "        try:\n",
        "            campo = int(campo)\n",
        "            if campo < 0 or campo >= len(cliente):\n",
        "                print(\"Número de campo inválido. Tente novamente.\")\n",
        "                continue\n",
        "        except ValueError:\n",
        "            print(\"Entrada inválida. Tente novamente.\")\n",
        "            continue\n",
        "\n",
        "        novo_valor = input(f\"Digite o novo valor para {cursor.description[campo][0]}: \")\n",
        "\n",
        "        query = f\"UPDATE cliente SET {cursor.description[campo][0]} = ? WHERE id_cliente = ?\"\n",
        "        cursor.execute(query, (novo_valor, id_cliente))\n",
        "        conn.commit()\n",
        "        print(\"Dado atualizado com sucesso!\")\n",
        "\n",
        "        cursor.execute(\"SELECT * FROM cliente WHERE id_cliente = ?\", (id_cliente,))\n",
        "        cliente = cursor.fetchone()\n",
        "        print(f\"Dados atualizados do cliente (ID {id_cliente}):\")\n",
        "        for idx, field in enumerate(cursor.description):\n",
        "            print(f\"{idx}: {field[0]} = {cliente[idx]}\")\n",
        "\n",
        "    print(\"Edições concluídas.\")\n",
        "\n",
        "#---------------------------------------------------------------------------------------\n",
        "\n",
        "def listar_clientes(cursor):\n",
        "    print(\"Escolha uma opção:\")\n",
        "    print(\"1. Listar todos os clientes (ID, Nome, CPF)\")\n",
        "    print(\"2. Consultar um cliente específico por ID\")\n",
        "    print(\"3. Consultar um cliente específico por CPF\")\n",
        "    opcao = input(\"Digite o número da opção desejada: \")\n",
        "\n",
        "    if opcao == '1':\n",
        "        cursor.execute(\"SELECT id_cliente, nome, cpf FROM cliente\")\n",
        "        clientes = cursor.fetchall()\n",
        "        print(\"Lista de todos os clientes:\")\n",
        "        for cliente in clientes:\n",
        "            print(f'ID: {cliente[0]}, Nome: {cliente[1]}, CPF: {cliente[2]}')\n",
        "\n",
        "    elif opcao == '2':\n",
        "        id_cliente = input(\"Digite o ID do cliente: \")\n",
        "        cursor.execute(\"SELECT * FROM cliente WHERE id_cliente = ?\", (id_cliente,))\n",
        "        cliente = cursor.fetchone()\n",
        "        if cliente:\n",
        "            print(\"Dados do cliente:\")\n",
        "            for idx, field in enumerate(cursor.description):\n",
        "                print(f\"{field[0]}: {cliente[idx]}\")\n",
        "        else:\n",
        "            print(\"Cliente não encontrado!\")\n",
        "\n",
        "    elif opcao == '3':\n",
        "        cpf = input(\"Digite o CPF do cliente: \")\n",
        "        cursor.execute(\"SELECT * FROM cliente WHERE cpf = ?\", (cpf,))\n",
        "        cliente = cursor.fetchone()\n",
        "        if cliente:\n",
        "            print(\"Dados do cliente:\")\n",
        "            for idx, field in enumerate(cursor.description):\n",
        "                print(f\"{field[0]}: {cliente[idx]}\")\n",
        "        else:\n",
        "            print(\"Cliente não encontrado!\")\n",
        "\n",
        "    else:\n",
        "        print(\"Opção inválida! Tente novamente.\")\n",
        "\n",
        "#---------------------------------------------------------------------------------------\n",
        "\n",
        "def deletar_cliente(cursor):\n",
        "    while True:\n",
        "        id_cliente = input(\"Você tem o ID do cliente que deseja deletar? (S/N): \").upper()\n",
        "        if id_cliente == 'S':\n",
        "            id_cliente = input(\"Digite o ID do cliente: \")\n",
        "        else:\n",
        "            nome = input(\"Digite o nome do cliente: \")\n",
        "            cpf = input(\"Digite o CPF do cliente: \")\n",
        "            cursor.execute(\"SELECT id_cliente FROM cliente WHERE nome = ? AND cpf = ?\", (nome, cpf))\n",
        "            resultado = cursor.fetchone()\n",
        "            if resultado:\n",
        "                id_cliente = resultado[0]\n",
        "                print(f\"ID do cliente encontrado: {id_cliente}\")\n",
        "            else:\n",
        "                print(\"Cliente não encontrado!\")\n",
        "                continue\n",
        "\n",
        "        # Confirmação de exclusão\n",
        "        cursor.execute(\"SELECT * FROM cliente WHERE id_cliente = ?\", (id_cliente,))\n",
        "        cliente = cursor.fetchone()\n",
        "        if cliente:\n",
        "            print(\"Dados do cliente:\")\n",
        "            for idx, field in enumerate(cursor.description):\n",
        "                print(f\"{field[0]}: {cliente[idx]}\")\n",
        "            confirmacao = input(\"Tem certeza que deseja excluir este cliente? (S/N): \").upper()\n",
        "            if confirmacao == 'S':\n",
        "                cursor.execute(\"DELETE FROM cliente WHERE id_cliente = ?\", (id_cliente,))\n",
        "                conn.commit()\n",
        "                print(\"Cliente deletado com sucesso!\")\n",
        "            else:\n",
        "                print(\"Exclusão cancelada.\")\n",
        "        else:\n",
        "            print(\"Cliente não encontrado!\")\n",
        "\n",
        "        # Pergunta se deseja excluir outro cliente\n",
        "        outra_exclusao = input(\"Deseja excluir outro cliente? (S/N): \").upper()\n",
        "        if outra_exclusao != 'S':\n",
        "            break\n",
        "\n",
        "#---------------------------------------------------------------------------------------\n",
        "cadastrar_clientes_teste(cursor)\n"
      ],
      "metadata": {
        "id": "ZM70I0TrUXii",
        "outputId": "a2dd49c8-f017-4728-e53c-d5b00fb8c8cc",
        "colab": {
          "base_uri": "https://localhost:8080/"
        }
      },
      "execution_count": 67,
      "outputs": [
        {
          "output_type": "stream",
          "name": "stdout",
          "text": [
            "Tabela cliente criada com sucesso\n",
            "Tabela locacao criada com sucesso\n",
            "10 clientes de teste cadastrados com sucesso!\n"
          ]
        }
      ]
    },
    {
      "cell_type": "code",
      "source": [
        "while True:\n",
        "    print(\"\\nEscolha a opção:\")\n",
        "    print(\"1 = Cadastrar cliente\")\n",
        "    print(\"2 = Alocar\")\n",
        "    print(\"3 = Listar clientes\")\n",
        "    print(\"4 = Alterar cliente\")\n",
        "    print(\"5 = Deletar cliente\")\n",
        "    print(\"0 = Sair\")\n",
        "    opcao = str(input(\"Digite a opção: \"))\n",
        "\n",
        "    if opcao == \"0\":\n",
        "        print(\"Saindo...\")\n",
        "        break\n",
        "    elif opcao in ['1', '2', '3', '4', '5']:\n",
        "        if opcao == '1':\n",
        "            cadastrar_cliente(cursor)\n",
        "        elif opcao == '2':\n",
        "            alocar(cursor)\n",
        "        elif opcao == '3':\n",
        "            listar_clientes(cursor)\n",
        "        elif opcao == '4':\n",
        "            id_cliente = input(\"Digite o ID do cliente que deseja alterar: \")\n",
        "            alterar_cliente(cursor, id_cliente)\n",
        "        elif opcao == '5':\n",
        "            deletar_cliente(cursor)\n",
        "    else:\n",
        "        print(\"Código inválido. Tente novamente.\")\n"
      ],
      "metadata": {
        "id": "sqINYu4Bh5hO",
        "outputId": "d16222ac-9f68-4361-f175-c7e24a73e97a",
        "colab": {
          "base_uri": "https://localhost:8080/"
        }
      },
      "execution_count": 68,
      "outputs": [
        {
          "output_type": "stream",
          "name": "stdout",
          "text": [
            "\n",
            "Escolha a opção:\n",
            "1 = Cadastrar cliente\n",
            "2 = Alocar\n",
            "3 = Listar clientes\n",
            "4 = Alterar cliente\n",
            "5 = Deletar cliente\n",
            "0 = Sair\n",
            "Digite a opção: 3\n",
            "Escolha uma opção:\n",
            "1. Listar todos os clientes (ID, Nome, CPF)\n",
            "2. Consultar um cliente específico por ID\n",
            "3. Consultar um cliente específico por CPF\n",
            "Digite o número da opção desejada: 1\n",
            "Lista de todos os clientes:\n",
            "ID: 1, Nome: Ana, CPF: 000.000.000\n",
            "ID: 2, Nome: Bruno, CPF: 000.000.001\n",
            "ID: 3, Nome: Carlos, CPF: 000.000.002\n",
            "ID: 4, Nome: Daniela, CPF: 000.000.003\n",
            "ID: 5, Nome: Eduardo, CPF: 000.000.004\n",
            "ID: 6, Nome: Fernanda, CPF: 000.000.005\n",
            "ID: 7, Nome: Gabriel, CPF: 000.000.006\n",
            "ID: 8, Nome: Helena, CPF: 000.000.007\n",
            "ID: 9, Nome: Igor, CPF: 000.000.008\n",
            "ID: 10, Nome: Júlia, CPF: 000.000.009\n",
            "\n",
            "Escolha a opção:\n",
            "1 = Cadastrar cliente\n",
            "2 = Alocar\n",
            "3 = Listar clientes\n",
            "4 = Alterar cliente\n",
            "5 = Deletar cliente\n",
            "0 = Sair\n",
            "Digite a opção: 4\n",
            "Digite o ID do cliente que deseja alterar: 1\n",
            "Dados atuais do cliente (ID 1):\n",
            "0: id_cliente = 1\n",
            "1: nome = Ana\n",
            "2: sobrenome = Silva\n",
            "3: sexo = M\n",
            "4: nascimento = 1990-01-01\n",
            "5: cpf = 000.000.000\n",
            "6: nome_pai = Pai_Ana\n",
            "7: nome_mae = Mãe_Ana\n",
            "8: email = ana0@exemplo.com\n",
            "9: telefone = (11) 0000-0000\n",
            "10: endereco = Endereço 0\n",
            "11: complemento = Complemento 0\n",
            "12: bairro = Bairro 0\n",
            "13: cidade = Cidade 0\n",
            "14: estado = Estado 0\n",
            "15: cep = 00000-000\n",
            "16: tipo_filme_favorito = Ação\n",
            "17: tipo_game_favorito = RPG\n",
            "Digite o número do campo que você quer alterar (ou 'sair' para finalizar): 5\n",
            "Digite o novo valor para cpf: 123123123\n",
            "Dado atualizado com sucesso!\n",
            "Dados atualizados do cliente (ID 1):\n",
            "0: id_cliente = 1\n",
            "1: nome = Ana\n",
            "2: sobrenome = Silva\n",
            "3: sexo = M\n",
            "4: nascimento = 1990-01-01\n",
            "5: cpf = 123123123\n",
            "6: nome_pai = Pai_Ana\n",
            "7: nome_mae = Mãe_Ana\n",
            "8: email = ana0@exemplo.com\n",
            "9: telefone = (11) 0000-0000\n",
            "10: endereco = Endereço 0\n",
            "11: complemento = Complemento 0\n",
            "12: bairro = Bairro 0\n",
            "13: cidade = Cidade 0\n",
            "14: estado = Estado 0\n",
            "15: cep = 00000-000\n",
            "16: tipo_filme_favorito = Ação\n",
            "17: tipo_game_favorito = RPG\n",
            "Digite o número do campo que você quer alterar (ou 'sair' para finalizar): sair\n",
            "Edições concluídas.\n",
            "\n",
            "Escolha a opção:\n",
            "1 = Cadastrar cliente\n",
            "2 = Alocar\n",
            "3 = Listar clientes\n",
            "4 = Alterar cliente\n",
            "5 = Deletar cliente\n",
            "0 = Sair\n",
            "Digite a opção: 5\n",
            "Você tem o ID do cliente que deseja deletar? (S/N): n\n",
            "Digite o nome do cliente: Ana\n",
            "Digite o CPF do cliente: 123123123\n",
            "ID do cliente encontrado: 1\n",
            "Dados do cliente:\n",
            "id_cliente: 1\n",
            "nome: Ana\n",
            "sobrenome: Silva\n",
            "sexo: M\n",
            "nascimento: 1990-01-01\n",
            "cpf: 123123123\n",
            "nome_pai: Pai_Ana\n",
            "nome_mae: Mãe_Ana\n",
            "email: ana0@exemplo.com\n",
            "telefone: (11) 0000-0000\n",
            "endereco: Endereço 0\n",
            "complemento: Complemento 0\n",
            "bairro: Bairro 0\n",
            "cidade: Cidade 0\n",
            "estado: Estado 0\n",
            "cep: 00000-000\n",
            "tipo_filme_favorito: Ação\n",
            "tipo_game_favorito: RPG\n",
            "Tem certeza que deseja excluir este cliente? (S/N): s\n",
            "Cliente deletado com sucesso!\n",
            "Deseja excluir outro cliente? (S/N): n\n",
            "\n",
            "Escolha a opção:\n",
            "1 = Cadastrar cliente\n",
            "2 = Alocar\n",
            "3 = Listar clientes\n",
            "4 = Alterar cliente\n",
            "5 = Deletar cliente\n",
            "0 = Sair\n",
            "Digite a opção: 0\n",
            "Saindo...\n"
          ]
        }
      ]
    },
    {
      "cell_type": "code",
      "source": [
        "cursor.execute(\"\"\" DROP TABLE cliente \"\"\")\n",
        "cursor.execute(\"\"\" DROP TABLE locacao \"\"\")\n",
        "print(\"Tabela cliente excluida com sucesso\")\n",
        "print(\"Tabela locacao excluida com sucesso\")"
      ],
      "metadata": {
        "id": "qCVV0WsNhdeN",
        "outputId": "2208f94c-f3a0-44cd-f497-7190454bd66b",
        "colab": {
          "base_uri": "https://localhost:8080/"
        }
      },
      "execution_count": 66,
      "outputs": [
        {
          "output_type": "stream",
          "name": "stdout",
          "text": [
            "Tabela cliente excluida com sucesso\n",
            "Tabela locacao excluida com sucesso\n"
          ]
        }
      ]
    }
  ]
}