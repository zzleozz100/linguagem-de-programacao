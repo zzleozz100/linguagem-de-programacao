{
  "nbformat": 4,
  "nbformat_minor": 0,
  "metadata": {
    "colab": {
      "provenance": [],
      "toc_visible": true,
      "name": "aulas.ipynb",
      "authorship_tag": "ABX9TyPQNiBnX1BQy4Fm/ib/j4Od",
      "include_colab_link": true
    },
    "kernelspec": {
      "name": "python3",
      "display_name": "Python 3"
    },
    "language_info": {
      "name": "python"
    }
  },
  "cells": [
    {
      "cell_type": "markdown",
      "metadata": {
        "id": "view-in-github",
        "colab_type": "text"
      },
      "source": [
        "<a href=\"https://colab.research.google.com/github/zzleozz100/linguagem-de-programacao/blob/main/aulas.ipynb\" target=\"_parent\"><img src=\"https://colab.research.google.com/assets/colab-badge.svg\" alt=\"Open In Colab\"/></a>"
      ]
    },
    {
      "cell_type": "markdown",
      "source": [
        "# Aula 1/2 (20/08/2024)\n"
      ],
      "metadata": {
        "id": "DOQr5ukOItk9"
      }
    },
    {
      "cell_type": "code",
      "source": [
        "x = 10\n",
        "nome = \"João\"\n",
        "nota = '8.5'\n",
        "faz_incricao = True\n",
        "\n",
        "print(type(x))\n",
        "print(type(nome))\n",
        "print(type(nota))\n",
        "print(type(faz_incricao))"
      ],
      "metadata": {
        "colab": {
          "base_uri": "https://localhost:8080/"
        },
        "id": "VeeTLwctI0x7",
        "outputId": "f12c6850-4d0f-4706-c47a-9e1d6322cb38"
      },
      "execution_count": null,
      "outputs": [
        {
          "output_type": "stream",
          "name": "stdout",
          "text": [
            "<class 'int'>\n",
            "<class 'str'>\n",
            "<class 'str'>\n",
            "<class 'bool'>\n"
          ]
        }
      ]
    },
    {
      "cell_type": "code",
      "source": [
        "nome = input(\"Digite seu nome: \")\n",
        "print(f\"Olá {nome} prazer em te conhecer!\")"
      ],
      "metadata": {
        "colab": {
          "base_uri": "https://localhost:8080/"
        },
        "id": "KkLN2NPuJkiy",
        "outputId": "75adb40e-8b03-439a-f421-799bcdafbbde"
      },
      "execution_count": null,
      "outputs": [
        {
          "output_type": "stream",
          "name": "stdout",
          "text": [
            "Digite seu nome: Leonardo\n",
            "Olá Leonardo prazer em te conhecer!\n"
          ]
        }
      ]
    },
    {
      "cell_type": "code",
      "source": [
        "alteracao_teste = 0"
      ],
      "metadata": {
        "id": "clgxCZp0LsNq"
      },
      "execution_count": null,
      "outputs": []
    },
    {
      "cell_type": "markdown",
      "source": [
        "# Aula 3 ( 27/08/2023)"
      ],
      "metadata": {
        "id": "ItL5EZJOFHNl"
      }
    },
    {
      "cell_type": "code",
      "source": [
        "# Solicita as duas notas do aluno\n",
        "nota1 = float(input(\"Digite a primeira nota: \"))\n",
        "nota2 = float(input(\"Digite a segunda nota: \"))\n",
        "\n",
        "# Calcula a média das notas\n",
        "media = (nota1 + nota2) / 2\n",
        "\n",
        "# Exibe a média\n",
        "print(f\"Sua média foi: {media:.2f}\")\n",
        "\n",
        "# Verifica se o aluno está aprovado ou não\n",
        "if media >= 7:\n",
        "    print(\"Aprovado\")\n",
        "else:\n",
        "    print(\"Reprovado\")"
      ],
      "metadata": {
        "id": "S-7F7Y3LFU7Y",
        "outputId": "7d08f966-c8aa-4c05-a6b2-17b2042083af",
        "colab": {
          "base_uri": "https://localhost:8080/"
        }
      },
      "execution_count": 1,
      "outputs": [
        {
          "output_type": "stream",
          "name": "stdout",
          "text": [
            "Digite a primeira nota: 7\n",
            "Digite a segunda nota: 4\n",
            "Sua média foi: 5.50\n",
            "Reprovado\n"
          ]
        }
      ]
    }
  ]
}